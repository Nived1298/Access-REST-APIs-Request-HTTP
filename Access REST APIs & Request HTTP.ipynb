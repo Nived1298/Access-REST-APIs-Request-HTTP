{
 "cells": [
  {
   "cell_type": "code",
   "execution_count": 1,
   "id": "af46b214-ada6-418d-ab28-305ef11443da",
   "metadata": {},
   "outputs": [],
   "source": [
    "import requests"
   ]
  },
  {
   "cell_type": "code",
   "execution_count": 2,
   "id": "0077d437-9cdd-4a03-9be5-340d250a9946",
   "metadata": {},
   "outputs": [],
   "source": [
    "import os \n",
    "from PIL import Image\n",
    "from IPython.display import IFrame"
   ]
  },
  {
   "cell_type": "code",
   "execution_count": 3,
   "id": "915836aa-1fe0-482b-9a24-c1c5a4bc24ae",
   "metadata": {},
   "outputs": [
    {
     "ename": "SyntaxError",
     "evalue": "invalid syntax (<ipython-input-3-470d3ac46530>, line 1)",
     "output_type": "error",
     "traceback": [
      "\u001b[0;36m  File \u001b[0;32m\"<ipython-input-3-470d3ac46530>\"\u001b[0;36m, line \u001b[0;32m1\u001b[0m\n\u001b[0;31m    www.ibm.com:\u001b[0m\n\u001b[0m                ^\u001b[0m\n\u001b[0;31mSyntaxError\u001b[0m\u001b[0;31m:\u001b[0m invalid syntax\n"
     ]
    }
   ],
   "source": [
    "www.ibm.com:"
   ]
  },
  {
   "cell_type": "code",
   "execution_count": 4,
   "id": "6c8fe24a-0185-459f-9a83-c0d05ce90121",
   "metadata": {},
   "outputs": [],
   "source": [
    "url='https://www.ibm.com/'\n",
    "r=requests.get(url)"
   ]
  },
  {
   "cell_type": "code",
   "execution_count": 5,
   "id": "5ad16a40-d8ae-487c-b7ee-946ac38d7861",
   "metadata": {},
   "outputs": [
    {
     "data": {
      "text/plain": [
       "200"
      ]
     },
     "execution_count": 5,
     "metadata": {},
     "output_type": "execute_result"
    }
   ],
   "source": [
    "r.status_code"
   ]
  },
  {
   "cell_type": "code",
   "execution_count": 6,
   "id": "a8dea1cc-9515-4d68-abf3-5f0b8dc48d6a",
   "metadata": {},
   "outputs": [
    {
     "name": "stdout",
     "output_type": "stream",
     "text": [
      "{'User-Agent': 'python-requests/2.25.1', 'Accept-Encoding': 'gzip, deflate', 'Accept': '*/*', 'Connection': 'keep-alive', 'Cookie': '_abck=D5F54EB9D29811C88505DDBD0E70531D~-1~YAAQRmAZuLpCukx7AQAAOVgubgbRt1cPLPf1EH+BZsYRUWLU2Vf7I/QKKfICnozA0npHiCRvJb61UTT3i63tscZD2l5J96wQ511CHo323Nanv4IPR5V79p2GJSCHW5ndUapRugYlyMvzWGwzUnTr7PT6mL4QjquYRimHEwFLObxYwY/KqyZKn+UjVoJBROdnqmJrlhW4vbrfh9jez/VoBOYPL7osYDu8oNg7ie2/nyIW+lgUy2tGwADjl7aalBm0m6FmlL6CFrucLqoM6u3SWKnKgLxjAfneImFtycSn4x98lT71XxMuLpvM8T1E5nTtj39i05sgY1+P+qjef/fU8eXmQcj1mbaLJAs+9KhWhRjR2LdE65g=~-1~-1~-1; bm_sz=651F2403F128784B123CE4D97E94BB45~YAAQRmAZuLtCukx7AQAAOVgubgz7L0fNRYPLpbwgFSJtQdERKhDmncme02EgA4kLpnG2JxylMNVY7AW5/nYaC1PjrFUuNV6awdFxI05MDRXnaNg37EDjHm/3l1KH/SBpnRo+KlNYirW4Iub1Zu1QdGh8TauiVyPQBGf9G5ZO1F9slLlfmqa6WN/1EqjEwNamwmen4SSTZ8+kRlsGsZNa2962CAZh8YTxdSzOpCLdo2yWgHRF2VFj4DsQPKApAz/CBDEY8Whes1wNZnbr+6carhPHWsMsSJgg9IexBkIdzc4=~3225925~3425585'}\n"
     ]
    }
   ],
   "source": [
    "print(r.request.headers)"
   ]
  },
  {
   "cell_type": "code",
   "execution_count": 7,
   "id": "d9dcde19-62cd-4108-be26-6a48db221c3f",
   "metadata": {},
   "outputs": [
    {
     "name": "stdout",
     "output_type": "stream",
     "text": [
      "request body: None\n"
     ]
    }
   ],
   "source": [
    "print(\"request body:\", r.request.body)"
   ]
  },
  {
   "cell_type": "code",
   "execution_count": 11,
   "id": "317fb802-1a87-4d1b-9338-cbb2a9fe2d4b",
   "metadata": {},
   "outputs": [
    {
     "name": "stdout",
     "output_type": "stream",
     "text": [
      "{'Cache-Control': 'max-age=301', 'Expires': 'Mon, 16 Aug 2021 16:36:40 GMT', 'Last-Modified': 'Mon, 16 Aug 2021 16:11:50 GMT', 'ETag': '\"14578-5c9af7576dcaa\"', 'Accept-Ranges': 'bytes', 'Content-Encoding': 'gzip', 'Content-Type': 'text/html', 'X-Akamai-Transformed': '9 16430 0 pmb=mTOE,1', 'Date': 'Sun, 22 Aug 2021 14:05:36 GMT', 'Content-Length': '16504', 'Connection': 'keep-alive', 'Vary': 'Accept-Encoding', 'x-content-type-options': 'nosniff', 'X-XSS-Protection': '1; mode=block', 'Content-Security-Policy': 'upgrade-insecure-requests', 'Strict-Transport-Security': 'max-age=31536000'}\n"
     ]
    }
   ],
   "source": [
    "header=r.headers\n",
    "print(r.headers)"
   ]
  },
  {
   "cell_type": "code",
   "execution_count": 12,
   "id": "da013202-cfdd-400c-8d81-21597b736716",
   "metadata": {},
   "outputs": [
    {
     "data": {
      "text/plain": [
       "'Sun, 22 Aug 2021 14:05:36 GMT'"
      ]
     },
     "execution_count": 12,
     "metadata": {},
     "output_type": "execute_result"
    }
   ],
   "source": [
    "header['date']"
   ]
  },
  {
   "cell_type": "code",
   "execution_count": 13,
   "id": "dc94891b-f96b-4896-ba3a-e190c9a4619d",
   "metadata": {},
   "outputs": [
    {
     "data": {
      "text/plain": [
       "'text/html'"
      ]
     },
     "execution_count": 13,
     "metadata": {},
     "output_type": "execute_result"
    }
   ],
   "source": [
    "header['Content-Type']"
   ]
  },
  {
   "cell_type": "code",
   "execution_count": 14,
   "id": "f4f93139-37df-4c63-b740-911504520018",
   "metadata": {},
   "outputs": [
    {
     "data": {
      "text/plain": [
       "'ISO-8859-1'"
      ]
     },
     "execution_count": 14,
     "metadata": {},
     "output_type": "execute_result"
    }
   ],
   "source": [
    "r.encoding"
   ]
  },
  {
   "cell_type": "code",
   "execution_count": 15,
   "id": "9822ff86-d714-4281-927f-6780ba6e3751",
   "metadata": {},
   "outputs": [
    {
     "data": {
      "text/plain": [
       "'<!DOCTYPE html><html lang=\"en-US\"><head><meta name=\"viewport\" content=\"width=device-width\"/><meta ch'"
      ]
     },
     "execution_count": 15,
     "metadata": {},
     "output_type": "execute_result"
    }
   ],
   "source": [
    "r.text[0:100]"
   ]
  },
  {
   "cell_type": "code",
   "execution_count": 19,
   "id": "91d3267b-5798-48a6-8b6b-c80647fce198",
   "metadata": {},
   "outputs": [],
   "source": [
    "url='https://gitlab.com/ibm/skills-network/courses/placeholder101/-/raw/master/labs/module%201/images/IDSNlogo.png'"
   ]
  },
  {
   "cell_type": "raw",
   "id": "e62778c5-d1e1-48ba-a9f8-31ab6e3f7d69",
   "metadata": {},
   "source": [
    "r=requests.get(url)"
   ]
  },
  {
   "cell_type": "code",
   "execution_count": 18,
   "id": "f57be5ef-4b1a-4409-8837-8002050e522a",
   "metadata": {},
   "outputs": [
    {
     "name": "stdout",
     "output_type": "stream",
     "text": [
      "{'Cache-Control': 'max-age=301', 'Expires': 'Mon, 16 Aug 2021 16:36:40 GMT', 'Last-Modified': 'Mon, 16 Aug 2021 16:11:50 GMT', 'ETag': '\"14578-5c9af7576dcaa\"', 'Accept-Ranges': 'bytes', 'Content-Encoding': 'gzip', 'Content-Type': 'text/html', 'X-Akamai-Transformed': '9 16430 0 pmb=mTOE,1', 'Date': 'Sun, 22 Aug 2021 14:05:36 GMT', 'Content-Length': '16504', 'Connection': 'keep-alive', 'Vary': 'Accept-Encoding', 'x-content-type-options': 'nosniff', 'X-XSS-Protection': '1; mode=block', 'Content-Security-Policy': 'upgrade-insecure-requests', 'Strict-Transport-Security': 'max-age=31536000'}\n"
     ]
    }
   ],
   "source": [
    "print(r.headers)"
   ]
  },
  {
   "cell_type": "code",
   "execution_count": 20,
   "id": "940e7a0d-1e04-4f01-a8b4-b3c60b837028",
   "metadata": {},
   "outputs": [
    {
     "data": {
      "text/plain": [
       "'text/html'"
      ]
     },
     "execution_count": 20,
     "metadata": {},
     "output_type": "execute_result"
    }
   ],
   "source": [
    "r.headers['Content-Type']"
   ]
  },
  {
   "cell_type": "code",
   "execution_count": 22,
   "id": "07de86a1-f321-4dc6-9d95-eac775bca7cc",
   "metadata": {},
   "outputs": [
    {
     "data": {
      "text/plain": [
       "'/resources/labs/image.png'"
      ]
     },
     "execution_count": 22,
     "metadata": {},
     "output_type": "execute_result"
    }
   ],
   "source": [
    "path=os.path.join(os.getcwd(),'image.png')\n",
    "path"
   ]
  },
  {
   "cell_type": "code",
   "execution_count": 23,
   "id": "2b0f5736-f286-49ec-93f8-e0f4f6390d5a",
   "metadata": {},
   "outputs": [],
   "source": [
    "with open(path,'wb') as f:\n",
    "    f.write(r.content)"
   ]
  },
  {
   "cell_type": "code",
   "execution_count": 25,
   "id": "b1b308e9-4f48-41d3-a7f0-052b388594d9",
   "metadata": {},
   "outputs": [
    {
     "ename": "UnidentifiedImageError",
     "evalue": "cannot identify image file '/resources/labs/image.png'",
     "output_type": "error",
     "traceback": [
      "\u001b[0;31m---------------------------------------------------------------------------\u001b[0m",
      "\u001b[0;31mUnidentifiedImageError\u001b[0m                    Traceback (most recent call last)",
      "\u001b[0;32m<ipython-input-25-879d94d56ed0>\u001b[0m in \u001b[0;36m<module>\u001b[0;34m\u001b[0m\n\u001b[0;32m----> 1\u001b[0;31m \u001b[0mImage\u001b[0m\u001b[0;34m.\u001b[0m\u001b[0mopen\u001b[0m\u001b[0;34m(\u001b[0m\u001b[0mpath\u001b[0m\u001b[0;34m)\u001b[0m\u001b[0;34m\u001b[0m\u001b[0;34m\u001b[0m\u001b[0m\n\u001b[0m",
      "\u001b[0;32m~/conda/envs/python/lib/python3.6/site-packages/PIL/Image.py\u001b[0m in \u001b[0;36mopen\u001b[0;34m(fp, mode, formats)\u001b[0m\n\u001b[1;32m   3022\u001b[0m         \u001b[0mwarnings\u001b[0m\u001b[0;34m.\u001b[0m\u001b[0mwarn\u001b[0m\u001b[0;34m(\u001b[0m\u001b[0mmessage\u001b[0m\u001b[0;34m)\u001b[0m\u001b[0;34m\u001b[0m\u001b[0;34m\u001b[0m\u001b[0m\n\u001b[1;32m   3023\u001b[0m     raise UnidentifiedImageError(\n\u001b[0;32m-> 3024\u001b[0;31m         \u001b[0;34m\"cannot identify image file %r\"\u001b[0m \u001b[0;34m%\u001b[0m \u001b[0;34m(\u001b[0m\u001b[0mfilename\u001b[0m \u001b[0;32mif\u001b[0m \u001b[0mfilename\u001b[0m \u001b[0;32melse\u001b[0m \u001b[0mfp\u001b[0m\u001b[0;34m)\u001b[0m\u001b[0;34m\u001b[0m\u001b[0;34m\u001b[0m\u001b[0m\n\u001b[0m\u001b[1;32m   3025\u001b[0m     )\n\u001b[1;32m   3026\u001b[0m \u001b[0;34m\u001b[0m\u001b[0m\n",
      "\u001b[0;31mUnidentifiedImageError\u001b[0m: cannot identify image file '/resources/labs/image.png'"
     ]
    }
   ],
   "source": [
    "Image.open(path)  "
   ]
  },
  {
   "cell_type": "code",
   "execution_count": 26,
   "id": "f288df18-ae55-42e0-865a-faaf4552d888",
   "metadata": {},
   "outputs": [],
   "source": [
    "url='https://cf-courses-data.s3.us.cloud-object-storage.appdomain.cloud/IBMDeveloperSkillsNetwork-PY0101EN-SkillsNetwork/labs/Module%205/data/Example1.txt'\n",
    "path=os.path.join(os.getcwd(),'example1.txt')\n",
    "r=requests.get(url)\n",
    "with open(path,'wb') as f:\n",
    "    f.write(r.content)"
   ]
  },
  {
   "cell_type": "code",
   "execution_count": 27,
   "id": "ed2f05c1-b6c1-4300-8c58-daf274ac57df",
   "metadata": {},
   "outputs": [],
   "source": [
    "url_get='http://httpbin.org/get'"
   ]
  },
  {
   "cell_type": "code",
   "execution_count": 28,
   "id": "211a5d49-2d81-437b-9a85-93b02b6127c3",
   "metadata": {},
   "outputs": [],
   "source": [
    "payload={\"name\":\"Joseph\",\"ID\":\"123\"}"
   ]
  },
  {
   "cell_type": "code",
   "execution_count": 30,
   "id": "537951dc-36c2-4c81-9e72-71dfe0be90bb",
   "metadata": {},
   "outputs": [],
   "source": [
    "r=requests.get(url_get,params=payload)"
   ]
  },
  {
   "cell_type": "code",
   "execution_count": 31,
   "id": "23e4cd5d-67af-4cbf-81a9-aef26c2d03ea",
   "metadata": {},
   "outputs": [
    {
     "data": {
      "text/plain": [
       "'http://httpbin.org/get?name=Joseph&ID=123'"
      ]
     },
     "execution_count": 31,
     "metadata": {},
     "output_type": "execute_result"
    }
   ],
   "source": [
    "r.url"
   ]
  },
  {
   "cell_type": "code",
   "execution_count": 32,
   "id": "24466bfa-6536-49e8-b3e4-1855a0b5b7d1",
   "metadata": {},
   "outputs": [
    {
     "name": "stdout",
     "output_type": "stream",
     "text": [
      "request body: None\n"
     ]
    }
   ],
   "source": [
    "print(\"request body:\", r.request.body)"
   ]
  },
  {
   "cell_type": "code",
   "execution_count": 33,
   "id": "acc8f524-4fda-434e-8259-98cada058107",
   "metadata": {},
   "outputs": [
    {
     "name": "stdout",
     "output_type": "stream",
     "text": [
      "200\n"
     ]
    }
   ],
   "source": [
    "print(r.status_code)"
   ]
  },
  {
   "cell_type": "code",
   "execution_count": 34,
   "id": "24cce10c-04cb-49ad-84d4-a9ee092e3130",
   "metadata": {},
   "outputs": [
    {
     "name": "stdout",
     "output_type": "stream",
     "text": [
      "{\n",
      "  \"args\": {\n",
      "    \"ID\": \"123\", \n",
      "    \"name\": \"Joseph\"\n",
      "  }, \n",
      "  \"headers\": {\n",
      "    \"Accept\": \"*/*\", \n",
      "    \"Accept-Encoding\": \"gzip, deflate\", \n",
      "    \"Host\": \"httpbin.org\", \n",
      "    \"User-Agent\": \"python-requests/2.25.1\", \n",
      "    \"X-Amzn-Trace-Id\": \"Root=1-61225e85-01ebd04f1c3210e20f49370a\"\n",
      "  }, \n",
      "  \"origin\": \"52.117.120.36\", \n",
      "  \"url\": \"http://httpbin.org/get?name=Joseph&ID=123\"\n",
      "}\n",
      "\n"
     ]
    }
   ],
   "source": [
    "print(r.text)"
   ]
  },
  {
   "cell_type": "code",
   "execution_count": 40,
   "id": "2e6103ea-70f9-4fea-8211-228dd01f0d0a",
   "metadata": {},
   "outputs": [
    {
     "data": {
      "text/plain": [
       "'application/json'"
      ]
     },
     "execution_count": 40,
     "metadata": {},
     "output_type": "execute_result"
    }
   ],
   "source": [
    "r.headers['Content-Type']"
   ]
  },
  {
   "cell_type": "code",
   "execution_count": 41,
   "id": "dabe66c8-522a-4fe1-946b-0f213bbd554d",
   "metadata": {},
   "outputs": [
    {
     "data": {
      "text/plain": [
       "{'args': {'ID': '123', 'name': 'Joseph'},\n",
       " 'headers': {'Accept': '*/*',\n",
       "  'Accept-Encoding': 'gzip, deflate',\n",
       "  'Host': 'httpbin.org',\n",
       "  'User-Agent': 'python-requests/2.25.1',\n",
       "  'X-Amzn-Trace-Id': 'Root=1-61225e85-01ebd04f1c3210e20f49370a'},\n",
       " 'origin': '52.117.120.36',\n",
       " 'url': 'http://httpbin.org/get?name=Joseph&ID=123'}"
      ]
     },
     "execution_count": 41,
     "metadata": {},
     "output_type": "execute_result"
    }
   ],
   "source": [
    "r.json()"
   ]
  },
  {
   "cell_type": "code",
   "execution_count": 42,
   "id": "35c51496-bbd5-4f83-82de-ae1ab64fdfdf",
   "metadata": {},
   "outputs": [
    {
     "data": {
      "text/plain": [
       "{'ID': '123', 'name': 'Joseph'}"
      ]
     },
     "execution_count": 42,
     "metadata": {},
     "output_type": "execute_result"
    }
   ],
   "source": [
    "r.json()['args']"
   ]
  },
  {
   "cell_type": "code",
   "execution_count": 43,
   "id": "0b4ae870-4e5d-4ada-8e21-526c26d51671",
   "metadata": {},
   "outputs": [],
   "source": [
    "url_post='http://httpbin.org/post'"
   ]
  },
  {
   "cell_type": "code",
   "execution_count": 45,
   "id": "455328f5-c465-426c-b0f9-4b10f70e9185",
   "metadata": {},
   "outputs": [],
   "source": [
    "r_post=requests.post(url_post,data=payload)"
   ]
  },
  {
   "cell_type": "code",
   "execution_count": 47,
   "id": "5e331656-19d3-4d9b-ad8b-76496d8bfe1d",
   "metadata": {},
   "outputs": [
    {
     "name": "stdout",
     "output_type": "stream",
     "text": [
      "POST request URL: http://httpbin.org/post\n",
      "GET request URL: http://httpbin.org/get?name=Joseph&ID=123\n"
     ]
    }
   ],
   "source": [
    "print(\"POST request URL:\",r_post.url )\n",
    "print(\"GET request URL:\",r.url)"
   ]
  },
  {
   "cell_type": "code",
   "execution_count": null,
   "id": "1f9788f0-9c8a-49d4-9855-f5bd96619567",
   "metadata": {},
   "outputs": [],
   "source": []
  }
 ],
 "metadata": {
  "kernelspec": {
   "display_name": "Python",
   "language": "python",
   "name": "conda-env-python-py"
  },
  "language_info": {
   "codemirror_mode": {
    "name": "ipython",
    "version": 3
   },
   "file_extension": ".py",
   "mimetype": "text/x-python",
   "name": "python",
   "nbconvert_exporter": "python",
   "pygments_lexer": "ipython3",
   "version": "3.6.13"
  }
 },
 "nbformat": 4,
 "nbformat_minor": 5
}
